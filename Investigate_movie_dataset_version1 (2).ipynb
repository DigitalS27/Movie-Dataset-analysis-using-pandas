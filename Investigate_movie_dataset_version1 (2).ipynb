{
 "cells": [
  {
   "cell_type": "markdown",
   "metadata": {},
   "source": [
    "\n",
    "\n",
    "# Project: Investigate a Movie Dataset\n",
    "\n",
    "## Table of Contents\n",
    "<ul>\n",
    "<li><a href=\"#intro\">Introduction</a></li>\n",
    "<li><a href=\"#wrangling\">Data Wrangling</a></li>\n",
    "<li><a href=\"#eda\">Exploratory Data Analysis</a></li>\n",
    "<li><a href=\"#conclusions\">Conclusions</a></li>\n",
    "</ul>"
   ]
  },
  {
   "cell_type": "markdown",
   "metadata": {},
   "source": [
    "<a id='intro'></a>\n",
    "## Introduction\n",
    "\n",
    "I have selected  The Movie Database dataset for analysis, this is a \" community builty movie & tv database\" and as I am a fan of movies and I believe that the dataset will provide for some very informative & entertaining analysis. \n",
    "\n",
    "I want to find out if the <strong>popularity</strong> of the movie is dependent on the budget of the movie. Are movies with higher budgets more popular than lower budget movies. \n",
    "\n",
    "My purpose with the investigation of this dataset is to explore the following questions regarding movies:\n",
    "\n",
    "    1.Is the popularity of a movie dependent on the budget of the movie\n",
    "    2.Which genre is more popular\n",
    "    3.Investigate the revenue of movies according to popularity\n",
    "\n",
    "The relevant data that I will use for this analysis will be the following variables:\n",
    "\n",
    "    -popularity\n",
    "    -revenue\n",
    "    -genres\n",
    "    -original_title\n",
    "    -vote_average\n",
    "\n",
    "My analysis will depend on scatter plots to see if there is a correlation between popularity and the other variables. "
   ]
  },
  {
   "cell_type": "code",
   "execution_count": 1,
   "metadata": {},
   "outputs": [],
   "source": [
    "import pandas as pd\n",
    "import numpy as np\n",
    "import matplotlib.pyplot as plt\n",
    "%matplotlib inline\n",
    "\n"
   ]
  },
  {
   "cell_type": "markdown",
   "metadata": {},
   "source": [
    "<a id='wrangling'></a>\n",
    "## Data Wrangling\n",
    "\n",
    "\n",
    "### General Properties"
   ]
  },
  {
   "cell_type": "code",
   "execution_count": 2,
   "metadata": {},
   "outputs": [
    {
     "data": {
      "text/html": [
       "<div>\n",
       "<style scoped>\n",
       "    .dataframe tbody tr th:only-of-type {\n",
       "        vertical-align: middle;\n",
       "    }\n",
       "\n",
       "    .dataframe tbody tr th {\n",
       "        vertical-align: top;\n",
       "    }\n",
       "\n",
       "    .dataframe thead th {\n",
       "        text-align: right;\n",
       "    }\n",
       "</style>\n",
       "<table border=\"1\" class=\"dataframe\">\n",
       "  <thead>\n",
       "    <tr style=\"text-align: right;\">\n",
       "      <th></th>\n",
       "      <th>id</th>\n",
       "      <th>imdb_id</th>\n",
       "      <th>popularity</th>\n",
       "      <th>budget</th>\n",
       "      <th>revenue</th>\n",
       "      <th>original_title</th>\n",
       "      <th>cast</th>\n",
       "      <th>homepage</th>\n",
       "      <th>director</th>\n",
       "      <th>tagline</th>\n",
       "      <th>...</th>\n",
       "      <th>overview</th>\n",
       "      <th>runtime</th>\n",
       "      <th>genres</th>\n",
       "      <th>production_companies</th>\n",
       "      <th>release_date</th>\n",
       "      <th>vote_count</th>\n",
       "      <th>vote_average</th>\n",
       "      <th>release_year</th>\n",
       "      <th>budget_adj</th>\n",
       "      <th>revenue_adj</th>\n",
       "    </tr>\n",
       "  </thead>\n",
       "  <tbody>\n",
       "    <tr>\n",
       "      <th>0</th>\n",
       "      <td>135397</td>\n",
       "      <td>tt0369610</td>\n",
       "      <td>32.985763</td>\n",
       "      <td>150000000</td>\n",
       "      <td>1513528810</td>\n",
       "      <td>Jurassic World</td>\n",
       "      <td>Chris Pratt|Bryce Dallas Howard|Irrfan Khan|Vi...</td>\n",
       "      <td>http://www.jurassicworld.com/</td>\n",
       "      <td>Colin Trevorrow</td>\n",
       "      <td>The park is open.</td>\n",
       "      <td>...</td>\n",
       "      <td>Twenty-two years after the events of Jurassic ...</td>\n",
       "      <td>124</td>\n",
       "      <td>Action|Adventure|Science Fiction|Thriller</td>\n",
       "      <td>Universal Studios|Amblin Entertainment|Legenda...</td>\n",
       "      <td>6/9/15</td>\n",
       "      <td>5562</td>\n",
       "      <td>6.5</td>\n",
       "      <td>2015</td>\n",
       "      <td>1.379999e+08</td>\n",
       "      <td>1.392446e+09</td>\n",
       "    </tr>\n",
       "    <tr>\n",
       "      <th>1</th>\n",
       "      <td>76341</td>\n",
       "      <td>tt1392190</td>\n",
       "      <td>28.419936</td>\n",
       "      <td>150000000</td>\n",
       "      <td>378436354</td>\n",
       "      <td>Mad Max: Fury Road</td>\n",
       "      <td>Tom Hardy|Charlize Theron|Hugh Keays-Byrne|Nic...</td>\n",
       "      <td>http://www.madmaxmovie.com/</td>\n",
       "      <td>George Miller</td>\n",
       "      <td>What a Lovely Day.</td>\n",
       "      <td>...</td>\n",
       "      <td>An apocalyptic story set in the furthest reach...</td>\n",
       "      <td>120</td>\n",
       "      <td>Action|Adventure|Science Fiction|Thriller</td>\n",
       "      <td>Village Roadshow Pictures|Kennedy Miller Produ...</td>\n",
       "      <td>5/13/15</td>\n",
       "      <td>6185</td>\n",
       "      <td>7.1</td>\n",
       "      <td>2015</td>\n",
       "      <td>1.379999e+08</td>\n",
       "      <td>3.481613e+08</td>\n",
       "    </tr>\n",
       "    <tr>\n",
       "      <th>2</th>\n",
       "      <td>262500</td>\n",
       "      <td>tt2908446</td>\n",
       "      <td>13.112507</td>\n",
       "      <td>110000000</td>\n",
       "      <td>295238201</td>\n",
       "      <td>Insurgent</td>\n",
       "      <td>Shailene Woodley|Theo James|Kate Winslet|Ansel...</td>\n",
       "      <td>http://www.thedivergentseries.movie/#insurgent</td>\n",
       "      <td>Robert Schwentke</td>\n",
       "      <td>One Choice Can Destroy You</td>\n",
       "      <td>...</td>\n",
       "      <td>Beatrice Prior must confront her inner demons ...</td>\n",
       "      <td>119</td>\n",
       "      <td>Adventure|Science Fiction|Thriller</td>\n",
       "      <td>Summit Entertainment|Mandeville Films|Red Wago...</td>\n",
       "      <td>3/18/15</td>\n",
       "      <td>2480</td>\n",
       "      <td>6.3</td>\n",
       "      <td>2015</td>\n",
       "      <td>1.012000e+08</td>\n",
       "      <td>2.716190e+08</td>\n",
       "    </tr>\n",
       "    <tr>\n",
       "      <th>3</th>\n",
       "      <td>140607</td>\n",
       "      <td>tt2488496</td>\n",
       "      <td>11.173104</td>\n",
       "      <td>200000000</td>\n",
       "      <td>2068178225</td>\n",
       "      <td>Star Wars: The Force Awakens</td>\n",
       "      <td>Harrison Ford|Mark Hamill|Carrie Fisher|Adam D...</td>\n",
       "      <td>http://www.starwars.com/films/star-wars-episod...</td>\n",
       "      <td>J.J. Abrams</td>\n",
       "      <td>Every generation has a story.</td>\n",
       "      <td>...</td>\n",
       "      <td>Thirty years after defeating the Galactic Empi...</td>\n",
       "      <td>136</td>\n",
       "      <td>Action|Adventure|Science Fiction|Fantasy</td>\n",
       "      <td>Lucasfilm|Truenorth Productions|Bad Robot</td>\n",
       "      <td>12/15/15</td>\n",
       "      <td>5292</td>\n",
       "      <td>7.5</td>\n",
       "      <td>2015</td>\n",
       "      <td>1.839999e+08</td>\n",
       "      <td>1.902723e+09</td>\n",
       "    </tr>\n",
       "    <tr>\n",
       "      <th>4</th>\n",
       "      <td>168259</td>\n",
       "      <td>tt2820852</td>\n",
       "      <td>9.335014</td>\n",
       "      <td>190000000</td>\n",
       "      <td>1506249360</td>\n",
       "      <td>Furious 7</td>\n",
       "      <td>Vin Diesel|Paul Walker|Jason Statham|Michelle ...</td>\n",
       "      <td>http://www.furious7.com/</td>\n",
       "      <td>James Wan</td>\n",
       "      <td>Vengeance Hits Home</td>\n",
       "      <td>...</td>\n",
       "      <td>Deckard Shaw seeks revenge against Dominic Tor...</td>\n",
       "      <td>137</td>\n",
       "      <td>Action|Crime|Thriller</td>\n",
       "      <td>Universal Pictures|Original Film|Media Rights ...</td>\n",
       "      <td>4/1/15</td>\n",
       "      <td>2947</td>\n",
       "      <td>7.3</td>\n",
       "      <td>2015</td>\n",
       "      <td>1.747999e+08</td>\n",
       "      <td>1.385749e+09</td>\n",
       "    </tr>\n",
       "  </tbody>\n",
       "</table>\n",
       "<p>5 rows × 21 columns</p>\n",
       "</div>"
      ],
      "text/plain": [
       "       id    imdb_id  popularity     budget     revenue  \\\n",
       "0  135397  tt0369610   32.985763  150000000  1513528810   \n",
       "1   76341  tt1392190   28.419936  150000000   378436354   \n",
       "2  262500  tt2908446   13.112507  110000000   295238201   \n",
       "3  140607  tt2488496   11.173104  200000000  2068178225   \n",
       "4  168259  tt2820852    9.335014  190000000  1506249360   \n",
       "\n",
       "                 original_title  \\\n",
       "0                Jurassic World   \n",
       "1            Mad Max: Fury Road   \n",
       "2                     Insurgent   \n",
       "3  Star Wars: The Force Awakens   \n",
       "4                     Furious 7   \n",
       "\n",
       "                                                cast  \\\n",
       "0  Chris Pratt|Bryce Dallas Howard|Irrfan Khan|Vi...   \n",
       "1  Tom Hardy|Charlize Theron|Hugh Keays-Byrne|Nic...   \n",
       "2  Shailene Woodley|Theo James|Kate Winslet|Ansel...   \n",
       "3  Harrison Ford|Mark Hamill|Carrie Fisher|Adam D...   \n",
       "4  Vin Diesel|Paul Walker|Jason Statham|Michelle ...   \n",
       "\n",
       "                                            homepage          director  \\\n",
       "0                      http://www.jurassicworld.com/   Colin Trevorrow   \n",
       "1                        http://www.madmaxmovie.com/     George Miller   \n",
       "2     http://www.thedivergentseries.movie/#insurgent  Robert Schwentke   \n",
       "3  http://www.starwars.com/films/star-wars-episod...       J.J. Abrams   \n",
       "4                           http://www.furious7.com/         James Wan   \n",
       "\n",
       "                         tagline  ...  \\\n",
       "0              The park is open.  ...   \n",
       "1             What a Lovely Day.  ...   \n",
       "2     One Choice Can Destroy You  ...   \n",
       "3  Every generation has a story.  ...   \n",
       "4            Vengeance Hits Home  ...   \n",
       "\n",
       "                                            overview runtime  \\\n",
       "0  Twenty-two years after the events of Jurassic ...     124   \n",
       "1  An apocalyptic story set in the furthest reach...     120   \n",
       "2  Beatrice Prior must confront her inner demons ...     119   \n",
       "3  Thirty years after defeating the Galactic Empi...     136   \n",
       "4  Deckard Shaw seeks revenge against Dominic Tor...     137   \n",
       "\n",
       "                                      genres  \\\n",
       "0  Action|Adventure|Science Fiction|Thriller   \n",
       "1  Action|Adventure|Science Fiction|Thriller   \n",
       "2         Adventure|Science Fiction|Thriller   \n",
       "3   Action|Adventure|Science Fiction|Fantasy   \n",
       "4                      Action|Crime|Thriller   \n",
       "\n",
       "                                production_companies release_date vote_count  \\\n",
       "0  Universal Studios|Amblin Entertainment|Legenda...       6/9/15       5562   \n",
       "1  Village Roadshow Pictures|Kennedy Miller Produ...      5/13/15       6185   \n",
       "2  Summit Entertainment|Mandeville Films|Red Wago...      3/18/15       2480   \n",
       "3          Lucasfilm|Truenorth Productions|Bad Robot     12/15/15       5292   \n",
       "4  Universal Pictures|Original Film|Media Rights ...       4/1/15       2947   \n",
       "\n",
       "   vote_average  release_year    budget_adj   revenue_adj  \n",
       "0           6.5          2015  1.379999e+08  1.392446e+09  \n",
       "1           7.1          2015  1.379999e+08  3.481613e+08  \n",
       "2           6.3          2015  1.012000e+08  2.716190e+08  \n",
       "3           7.5          2015  1.839999e+08  1.902723e+09  \n",
       "4           7.3          2015  1.747999e+08  1.385749e+09  \n",
       "\n",
       "[5 rows x 21 columns]"
      ]
     },
     "execution_count": 2,
     "metadata": {},
     "output_type": "execute_result"
    }
   ],
   "source": [
    "\n",
    "tm = pd.read_csv('tmdb-movies.csv')\n",
    "tm.head()"
   ]
  },
  {
   "cell_type": "code",
   "execution_count": 4,
   "metadata": {},
   "outputs": [],
   "source": [
    "def pandas_config():\n",
    "    # display 10 rows and all the columns\n",
    "    pd.set_option('display.max_rows', 10)\n",
    "    pd.set_option('display.max_columns', None)\n",
    "\n",
    "    \n",
    "pandas_config()"
   ]
  },
  {
   "cell_type": "markdown",
   "metadata": {},
   "source": [
    "I want to check the dimensions of the dataset"
   ]
  },
  {
   "cell_type": "code",
   "execution_count": 3,
   "metadata": {},
   "outputs": [
    {
     "data": {
      "text/plain": [
       "(10866, 21)"
      ]
     },
     "execution_count": 3,
     "metadata": {},
     "output_type": "execute_result"
    }
   ],
   "source": [
    "tm.shape"
   ]
  },
  {
   "cell_type": "markdown",
   "metadata": {},
   "source": [
    "I want to view the datatypes of the columns in my dataset"
   ]
  },
  {
   "cell_type": "code",
   "execution_count": 4,
   "metadata": {},
   "outputs": [
    {
     "data": {
      "text/plain": [
       "id                        int64\n",
       "imdb_id                  object\n",
       "popularity              float64\n",
       "budget                    int64\n",
       "revenue                   int64\n",
       "original_title           object\n",
       "cast                     object\n",
       "homepage                 object\n",
       "director                 object\n",
       "tagline                  object\n",
       "keywords                 object\n",
       "overview                 object\n",
       "runtime                   int64\n",
       "genres                   object\n",
       "production_companies     object\n",
       "release_date             object\n",
       "vote_count                int64\n",
       "vote_average            float64\n",
       "release_year              int64\n",
       "budget_adj              float64\n",
       "revenue_adj             float64\n",
       "dtype: object"
      ]
     },
     "execution_count": 4,
     "metadata": {},
     "output_type": "execute_result"
    }
   ],
   "source": [
    "tm.dtypes"
   ]
  },
  {
   "cell_type": "markdown",
   "metadata": {},
   "source": [
    "Check if there are any nul values in the dataset and form and opinion of their usefulnes in the analysis of the dataset"
   ]
  },
  {
   "cell_type": "code",
   "execution_count": 5,
   "metadata": {},
   "outputs": [
    {
     "data": {
      "text/plain": [
       "True"
      ]
     },
     "execution_count": 5,
     "metadata": {},
     "output_type": "execute_result"
    }
   ],
   "source": [
    "tm.isnull().sum().any()"
   ]
  },
  {
   "cell_type": "code",
   "execution_count": 6,
   "metadata": {},
   "outputs": [
    {
     "data": {
      "text/plain": [
       "id                         0\n",
       "imdb_id                   10\n",
       "popularity                 0\n",
       "budget                     0\n",
       "revenue                    0\n",
       "original_title             0\n",
       "cast                      76\n",
       "homepage                7930\n",
       "director                  44\n",
       "tagline                 2824\n",
       "keywords                1493\n",
       "overview                   4\n",
       "runtime                    0\n",
       "genres                    23\n",
       "production_companies    1030\n",
       "release_date               0\n",
       "vote_count                 0\n",
       "vote_average               0\n",
       "release_year               0\n",
       "budget_adj                 0\n",
       "revenue_adj                0\n",
       "dtype: int64"
      ]
     },
     "execution_count": 6,
     "metadata": {},
     "output_type": "execute_result"
    }
   ],
   "source": [
    "tm.isnull().sum()"
   ]
  },
  {
   "cell_type": "markdown",
   "metadata": {},
   "source": [
    "Some of the columns that have null values that I don't think will have an influence on the analysis of the data are:\n",
    "id, imdb_id, homepage, tagline & keywords.  I think it is safe to drop these  columns as they will not serve any value for the analysis\n"
   ]
  },
  {
   "cell_type": "code",
   "execution_count": 7,
   "metadata": {},
   "outputs": [],
   "source": [
    "tm = tm.drop(columns=['homepage', 'imdb_id', 'id'])\n"
   ]
  },
  {
   "cell_type": "code",
   "execution_count": 8,
   "metadata": {},
   "outputs": [],
   "source": [
    "tm = tm.drop(columns=['tagline', 'keywords'])"
   ]
  },
  {
   "cell_type": "markdown",
   "metadata": {},
   "source": [
    "Check the dimensions of the data to determine if the columns have indeed been removed"
   ]
  },
  {
   "cell_type": "code",
   "execution_count": 9,
   "metadata": {},
   "outputs": [
    {
     "data": {
      "text/plain": [
       "(10866, 16)"
      ]
     },
     "execution_count": 9,
     "metadata": {},
     "output_type": "execute_result"
    }
   ],
   "source": [
    "tm.shape"
   ]
  },
  {
   "cell_type": "code",
   "execution_count": 12,
   "metadata": {},
   "outputs": [
    {
     "data": {
      "text/html": [
       "<div>\n",
       "<style scoped>\n",
       "    .dataframe tbody tr th:only-of-type {\n",
       "        vertical-align: middle;\n",
       "    }\n",
       "\n",
       "    .dataframe tbody tr th {\n",
       "        vertical-align: top;\n",
       "    }\n",
       "\n",
       "    .dataframe thead th {\n",
       "        text-align: right;\n",
       "    }\n",
       "</style>\n",
       "<table border=\"1\" class=\"dataframe\">\n",
       "  <thead>\n",
       "    <tr style=\"text-align: right;\">\n",
       "      <th></th>\n",
       "      <th>popularity</th>\n",
       "      <th>budget</th>\n",
       "      <th>revenue</th>\n",
       "      <th>original_title</th>\n",
       "      <th>cast</th>\n",
       "      <th>director</th>\n",
       "      <th>overview</th>\n",
       "      <th>runtime</th>\n",
       "      <th>genres</th>\n",
       "      <th>production_companies</th>\n",
       "      <th>release_date</th>\n",
       "      <th>vote_count</th>\n",
       "      <th>vote_average</th>\n",
       "      <th>release_year</th>\n",
       "      <th>budget_adj</th>\n",
       "      <th>revenue_adj</th>\n",
       "    </tr>\n",
       "  </thead>\n",
       "  <tbody>\n",
       "    <tr>\n",
       "      <th>0</th>\n",
       "      <td>32.985763</td>\n",
       "      <td>150000000</td>\n",
       "      <td>1513528810</td>\n",
       "      <td>Jurassic World</td>\n",
       "      <td>Chris Pratt|Bryce Dallas Howard|Irrfan Khan|Vi...</td>\n",
       "      <td>Colin Trevorrow</td>\n",
       "      <td>Twenty-two years after the events of Jurassic ...</td>\n",
       "      <td>124</td>\n",
       "      <td>Action|Adventure|Science Fiction|Thriller</td>\n",
       "      <td>Universal Studios|Amblin Entertainment|Legenda...</td>\n",
       "      <td>2015-06-09</td>\n",
       "      <td>5562</td>\n",
       "      <td>6.5</td>\n",
       "      <td>2015</td>\n",
       "      <td>1.379999e+08</td>\n",
       "      <td>1.392446e+09</td>\n",
       "    </tr>\n",
       "  </tbody>\n",
       "</table>\n",
       "</div>"
      ],
      "text/plain": [
       "   popularity     budget     revenue  original_title  \\\n",
       "0   32.985763  150000000  1513528810  Jurassic World   \n",
       "\n",
       "                                                cast         director  \\\n",
       "0  Chris Pratt|Bryce Dallas Howard|Irrfan Khan|Vi...  Colin Trevorrow   \n",
       "\n",
       "                                            overview  runtime  \\\n",
       "0  Twenty-two years after the events of Jurassic ...      124   \n",
       "\n",
       "                                      genres  \\\n",
       "0  Action|Adventure|Science Fiction|Thriller   \n",
       "\n",
       "                                production_companies release_date  vote_count  \\\n",
       "0  Universal Studios|Amblin Entertainment|Legenda...   2015-06-09        5562   \n",
       "\n",
       "   vote_average  release_year    budget_adj   revenue_adj  \n",
       "0           6.5          2015  1.379999e+08  1.392446e+09  "
      ]
     },
     "execution_count": 12,
     "metadata": {},
     "output_type": "execute_result"
    }
   ],
   "source": [
    "tm.head(1)"
   ]
  },
  {
   "cell_type": "markdown",
   "metadata": {},
   "source": [
    "my data in the budget_adj and revenue_adj columns are showing in the scientific notation.  This will make it very hard to do any calculations and the columns are not providing useful information.  I will change the format to display as float instead of as scientific notation"
   ]
  },
  {
   "cell_type": "code",
   "execution_count": 13,
   "metadata": {},
   "outputs": [],
   "source": [
    "pd.options.display.float_format = '{:.2f}'.format"
   ]
  },
  {
   "cell_type": "markdown",
   "metadata": {},
   "source": [
    "check to determine if the data is the budget_adj and revenue_adj columns are now displaying correctly"
   ]
  },
  {
   "cell_type": "code",
   "execution_count": 14,
   "metadata": {},
   "outputs": [
    {
     "data": {
      "text/html": [
       "<div>\n",
       "<style scoped>\n",
       "    .dataframe tbody tr th:only-of-type {\n",
       "        vertical-align: middle;\n",
       "    }\n",
       "\n",
       "    .dataframe tbody tr th {\n",
       "        vertical-align: top;\n",
       "    }\n",
       "\n",
       "    .dataframe thead th {\n",
       "        text-align: right;\n",
       "    }\n",
       "</style>\n",
       "<table border=\"1\" class=\"dataframe\">\n",
       "  <thead>\n",
       "    <tr style=\"text-align: right;\">\n",
       "      <th></th>\n",
       "      <th>popularity</th>\n",
       "      <th>budget</th>\n",
       "      <th>revenue</th>\n",
       "      <th>original_title</th>\n",
       "      <th>cast</th>\n",
       "      <th>director</th>\n",
       "      <th>overview</th>\n",
       "      <th>runtime</th>\n",
       "      <th>genres</th>\n",
       "      <th>production_companies</th>\n",
       "      <th>release_date</th>\n",
       "      <th>vote_count</th>\n",
       "      <th>vote_average</th>\n",
       "      <th>release_year</th>\n",
       "      <th>budget_adj</th>\n",
       "      <th>revenue_adj</th>\n",
       "    </tr>\n",
       "  </thead>\n",
       "  <tbody>\n",
       "    <tr>\n",
       "      <th>0</th>\n",
       "      <td>32.99</td>\n",
       "      <td>150000000</td>\n",
       "      <td>1513528810</td>\n",
       "      <td>Jurassic World</td>\n",
       "      <td>Chris Pratt|Bryce Dallas Howard|Irrfan Khan|Vi...</td>\n",
       "      <td>Colin Trevorrow</td>\n",
       "      <td>Twenty-two years after the events of Jurassic ...</td>\n",
       "      <td>124</td>\n",
       "      <td>Action|Adventure|Science Fiction|Thriller</td>\n",
       "      <td>Universal Studios|Amblin Entertainment|Legenda...</td>\n",
       "      <td>2015-06-09</td>\n",
       "      <td>5562</td>\n",
       "      <td>6.50</td>\n",
       "      <td>2015</td>\n",
       "      <td>137999939.28</td>\n",
       "      <td>1392445892.52</td>\n",
       "    </tr>\n",
       "  </tbody>\n",
       "</table>\n",
       "</div>"
      ],
      "text/plain": [
       "   popularity     budget     revenue  original_title  \\\n",
       "0       32.99  150000000  1513528810  Jurassic World   \n",
       "\n",
       "                                                cast         director  \\\n",
       "0  Chris Pratt|Bryce Dallas Howard|Irrfan Khan|Vi...  Colin Trevorrow   \n",
       "\n",
       "                                            overview  runtime  \\\n",
       "0  Twenty-two years after the events of Jurassic ...      124   \n",
       "\n",
       "                                      genres  \\\n",
       "0  Action|Adventure|Science Fiction|Thriller   \n",
       "\n",
       "                                production_companies release_date  vote_count  \\\n",
       "0  Universal Studios|Amblin Entertainment|Legenda...   2015-06-09        5562   \n",
       "\n",
       "   vote_average  release_year   budget_adj   revenue_adj  \n",
       "0          6.50          2015 137999939.28 1392445892.52  "
      ]
     },
     "execution_count": 14,
     "metadata": {},
     "output_type": "execute_result"
    }
   ],
   "source": [
    "tm.head(1)"
   ]
  },
  {
   "cell_type": "markdown",
   "metadata": {},
   "source": [
    "The date datatype is in a string format and I will change the datatype to datetime datatype to display better and then if needed calculations can be done"
   ]
  },
  {
   "cell_type": "code",
   "execution_count": 15,
   "metadata": {},
   "outputs": [],
   "source": [
    "\n",
    "\n",
    "tm['release_date'] = pd.to_datetime(tm['release_date'])\n"
   ]
  },
  {
   "cell_type": "markdown",
   "metadata": {},
   "source": [
    "Check the datatypes again to ensure that the datatype for the 'release_date' have been changed from object/string to datetime format"
   ]
  },
  {
   "cell_type": "code",
   "execution_count": 16,
   "metadata": {},
   "outputs": [
    {
     "data": {
      "text/plain": [
       "popularity                     float64\n",
       "budget                           int64\n",
       "revenue                          int64\n",
       "original_title                  object\n",
       "cast                            object\n",
       "director                        object\n",
       "overview                        object\n",
       "runtime                          int64\n",
       "genres                          object\n",
       "production_companies            object\n",
       "release_date            datetime64[ns]\n",
       "vote_count                       int64\n",
       "vote_average                   float64\n",
       "release_year                     int64\n",
       "budget_adj                     float64\n",
       "revenue_adj                    float64\n",
       "dtype: object"
      ]
     },
     "execution_count": 16,
     "metadata": {},
     "output_type": "execute_result"
    }
   ],
   "source": [
    "tm.dtypes"
   ]
  },
  {
   "cell_type": "markdown",
   "metadata": {},
   "source": [
    "display the data to check that the 'release_date' is displaying correctly"
   ]
  },
  {
   "cell_type": "code",
   "execution_count": 17,
   "metadata": {},
   "outputs": [
    {
     "data": {
      "text/html": [
       "<div>\n",
       "<style scoped>\n",
       "    .dataframe tbody tr th:only-of-type {\n",
       "        vertical-align: middle;\n",
       "    }\n",
       "\n",
       "    .dataframe tbody tr th {\n",
       "        vertical-align: top;\n",
       "    }\n",
       "\n",
       "    .dataframe thead th {\n",
       "        text-align: right;\n",
       "    }\n",
       "</style>\n",
       "<table border=\"1\" class=\"dataframe\">\n",
       "  <thead>\n",
       "    <tr style=\"text-align: right;\">\n",
       "      <th></th>\n",
       "      <th>popularity</th>\n",
       "      <th>budget</th>\n",
       "      <th>revenue</th>\n",
       "      <th>original_title</th>\n",
       "      <th>cast</th>\n",
       "      <th>director</th>\n",
       "      <th>overview</th>\n",
       "      <th>runtime</th>\n",
       "      <th>genres</th>\n",
       "      <th>production_companies</th>\n",
       "      <th>release_date</th>\n",
       "      <th>vote_count</th>\n",
       "      <th>vote_average</th>\n",
       "      <th>release_year</th>\n",
       "      <th>budget_adj</th>\n",
       "      <th>revenue_adj</th>\n",
       "    </tr>\n",
       "  </thead>\n",
       "  <tbody>\n",
       "    <tr>\n",
       "      <th>0</th>\n",
       "      <td>32.99</td>\n",
       "      <td>150000000</td>\n",
       "      <td>1513528810</td>\n",
       "      <td>Jurassic World</td>\n",
       "      <td>Chris Pratt|Bryce Dallas Howard|Irrfan Khan|Vi...</td>\n",
       "      <td>Colin Trevorrow</td>\n",
       "      <td>Twenty-two years after the events of Jurassic ...</td>\n",
       "      <td>124</td>\n",
       "      <td>Action|Adventure|Science Fiction|Thriller</td>\n",
       "      <td>Universal Studios|Amblin Entertainment|Legenda...</td>\n",
       "      <td>2015-06-09</td>\n",
       "      <td>5562</td>\n",
       "      <td>6.50</td>\n",
       "      <td>2015</td>\n",
       "      <td>137999939.28</td>\n",
       "      <td>1392445892.52</td>\n",
       "    </tr>\n",
       "  </tbody>\n",
       "</table>\n",
       "</div>"
      ],
      "text/plain": [
       "   popularity     budget     revenue  original_title  \\\n",
       "0       32.99  150000000  1513528810  Jurassic World   \n",
       "\n",
       "                                                cast         director  \\\n",
       "0  Chris Pratt|Bryce Dallas Howard|Irrfan Khan|Vi...  Colin Trevorrow   \n",
       "\n",
       "                                            overview  runtime  \\\n",
       "0  Twenty-two years after the events of Jurassic ...      124   \n",
       "\n",
       "                                      genres  \\\n",
       "0  Action|Adventure|Science Fiction|Thriller   \n",
       "\n",
       "                                production_companies release_date  vote_count  \\\n",
       "0  Universal Studios|Amblin Entertainment|Legenda...   2015-06-09        5562   \n",
       "\n",
       "   vote_average  release_year   budget_adj   revenue_adj  \n",
       "0          6.50          2015 137999939.28 1392445892.52  "
      ]
     },
     "execution_count": 17,
     "metadata": {},
     "output_type": "execute_result"
    }
   ],
   "source": [
    "tm.head(1)"
   ]
  },
  {
   "cell_type": "markdown",
   "metadata": {},
   "source": [
    "Check the title column for any duplicate values"
   ]
  },
  {
   "cell_type": "code",
   "execution_count": 18,
   "metadata": {},
   "outputs": [
    {
     "data": {
      "text/plain": [
       "295"
      ]
     },
     "execution_count": 18,
     "metadata": {},
     "output_type": "execute_result"
    }
   ],
   "source": [
    "sum(tm.duplicated('original_title'))"
   ]
  },
  {
   "cell_type": "markdown",
   "metadata": {},
   "source": [
    "remove all duplicate values from 'original_title' column"
   ]
  },
  {
   "cell_type": "code",
   "execution_count": 19,
   "metadata": {},
   "outputs": [],
   "source": [
    "tm.drop_duplicates('original_title', inplace=True)"
   ]
  },
  {
   "cell_type": "markdown",
   "metadata": {},
   "source": [
    "do a sum on the original title column to determine if duplicate values have been removed"
   ]
  },
  {
   "cell_type": "code",
   "execution_count": 20,
   "metadata": {},
   "outputs": [
    {
     "data": {
      "text/plain": [
       "0"
      ]
     },
     "execution_count": 20,
     "metadata": {},
     "output_type": "execute_result"
    }
   ],
   "source": [
    "sum(tm.duplicated('original_title'))"
   ]
  },
  {
   "cell_type": "code",
   "execution_count": 22,
   "metadata": {},
   "outputs": [
    {
     "data": {
      "text/plain": [
       "(10571, 16)"
      ]
     },
     "execution_count": 22,
     "metadata": {},
     "output_type": "execute_result"
    }
   ],
   "source": [
    "tm.shape"
   ]
  },
  {
   "cell_type": "markdown",
   "metadata": {},
   "source": [
    "<a id='eda'></a>\n",
    "## Exploratory Data Analysis\n",
    "\n",
    "\n",
    "### Research Question 1:  Is the popularity of a movie dependent on the budget of the movie"
   ]
  },
  {
   "cell_type": "markdown",
   "metadata": {},
   "source": [
    "Check general statistics of the dataset"
   ]
  },
  {
   "cell_type": "markdown",
   "metadata": {},
   "source": [
    "I don't want to display data containing 0 values in the popularity or budget columns as this will skew the results."
   ]
  },
  {
   "cell_type": "code",
   "execution_count": 43,
   "metadata": {},
   "outputs": [],
   "source": [
    "\n",
    "\n",
    "tm = tm.loc[~(tm==0).all(axis=1)]"
   ]
  },
  {
   "cell_type": "code",
   "execution_count": 44,
   "metadata": {},
   "outputs": [
    {
     "data": {
      "text/html": [
       "<div>\n",
       "<style scoped>\n",
       "    .dataframe tbody tr th:only-of-type {\n",
       "        vertical-align: middle;\n",
       "    }\n",
       "\n",
       "    .dataframe tbody tr th {\n",
       "        vertical-align: top;\n",
       "    }\n",
       "\n",
       "    .dataframe thead th {\n",
       "        text-align: right;\n",
       "    }\n",
       "</style>\n",
       "<table border=\"1\" class=\"dataframe\">\n",
       "  <thead>\n",
       "    <tr style=\"text-align: right;\">\n",
       "      <th></th>\n",
       "      <th>popularity</th>\n",
       "      <th>budget</th>\n",
       "      <th>revenue</th>\n",
       "      <th>runtime</th>\n",
       "      <th>vote_count</th>\n",
       "      <th>vote_average</th>\n",
       "      <th>release_year</th>\n",
       "      <th>budget_adj</th>\n",
       "      <th>revenue_adj</th>\n",
       "    </tr>\n",
       "  </thead>\n",
       "  <tbody>\n",
       "    <tr>\n",
       "      <th>count</th>\n",
       "      <td>3756.00</td>\n",
       "      <td>3756.00</td>\n",
       "      <td>3756.00</td>\n",
       "      <td>3756.00</td>\n",
       "      <td>3756.00</td>\n",
       "      <td>3756.00</td>\n",
       "      <td>3756.00</td>\n",
       "      <td>3756.00</td>\n",
       "      <td>3756.00</td>\n",
       "    </tr>\n",
       "    <tr>\n",
       "      <th>mean</th>\n",
       "      <td>1.19</td>\n",
       "      <td>37528623.23</td>\n",
       "      <td>108238585.51</td>\n",
       "      <td>109.18</td>\n",
       "      <td>530.73</td>\n",
       "      <td>6.16</td>\n",
       "      <td>2001.54</td>\n",
       "      <td>44367028.74</td>\n",
       "      <td>136393060.04</td>\n",
       "    </tr>\n",
       "    <tr>\n",
       "      <th>std</th>\n",
       "      <td>1.49</td>\n",
       "      <td>42446014.12</td>\n",
       "      <td>177047807.46</td>\n",
       "      <td>19.88</td>\n",
       "      <td>885.74</td>\n",
       "      <td>0.79</td>\n",
       "      <td>11.06</td>\n",
       "      <td>44980074.99</td>\n",
       "      <td>215896926.49</td>\n",
       "    </tr>\n",
       "    <tr>\n",
       "      <th>min</th>\n",
       "      <td>0.00</td>\n",
       "      <td>1.00</td>\n",
       "      <td>2.00</td>\n",
       "      <td>15.00</td>\n",
       "      <td>10.00</td>\n",
       "      <td>2.20</td>\n",
       "      <td>1960.00</td>\n",
       "      <td>0.97</td>\n",
       "      <td>2.37</td>\n",
       "    </tr>\n",
       "    <tr>\n",
       "      <th>25%</th>\n",
       "      <td>0.46</td>\n",
       "      <td>10000000.00</td>\n",
       "      <td>13586680.25</td>\n",
       "      <td>95.00</td>\n",
       "      <td>71.00</td>\n",
       "      <td>5.68</td>\n",
       "      <td>1996.00</td>\n",
       "      <td>13191802.64</td>\n",
       "      <td>18309940.90</td>\n",
       "    </tr>\n",
       "    <tr>\n",
       "      <th>50%</th>\n",
       "      <td>0.80</td>\n",
       "      <td>24000000.00</td>\n",
       "      <td>44834485.00</td>\n",
       "      <td>105.00</td>\n",
       "      <td>205.00</td>\n",
       "      <td>6.20</td>\n",
       "      <td>2004.00</td>\n",
       "      <td>30148807.35</td>\n",
       "      <td>60925540.44</td>\n",
       "    </tr>\n",
       "    <tr>\n",
       "      <th>75%</th>\n",
       "      <td>1.37</td>\n",
       "      <td>50000000.00</td>\n",
       "      <td>125621665.00</td>\n",
       "      <td>119.00</td>\n",
       "      <td>581.25</td>\n",
       "      <td>6.70</td>\n",
       "      <td>2010.00</td>\n",
       "      <td>60613069.68</td>\n",
       "      <td>161943045.37</td>\n",
       "    </tr>\n",
       "    <tr>\n",
       "      <th>max</th>\n",
       "      <td>32.99</td>\n",
       "      <td>425000000.00</td>\n",
       "      <td>2781505847.00</td>\n",
       "      <td>338.00</td>\n",
       "      <td>9767.00</td>\n",
       "      <td>8.40</td>\n",
       "      <td>2015.00</td>\n",
       "      <td>425000000.00</td>\n",
       "      <td>2827123750.41</td>\n",
       "    </tr>\n",
       "  </tbody>\n",
       "</table>\n",
       "</div>"
      ],
      "text/plain": [
       "       popularity       budget       revenue  runtime  vote_count  \\\n",
       "count     3756.00      3756.00       3756.00  3756.00     3756.00   \n",
       "mean         1.19  37528623.23  108238585.51   109.18      530.73   \n",
       "std          1.49  42446014.12  177047807.46    19.88      885.74   \n",
       "min          0.00         1.00          2.00    15.00       10.00   \n",
       "25%          0.46  10000000.00   13586680.25    95.00       71.00   \n",
       "50%          0.80  24000000.00   44834485.00   105.00      205.00   \n",
       "75%          1.37  50000000.00  125621665.00   119.00      581.25   \n",
       "max         32.99 425000000.00 2781505847.00   338.00     9767.00   \n",
       "\n",
       "       vote_average  release_year   budget_adj   revenue_adj  \n",
       "count       3756.00       3756.00      3756.00       3756.00  \n",
       "mean           6.16       2001.54  44367028.74  136393060.04  \n",
       "std            0.79         11.06  44980074.99  215896926.49  \n",
       "min            2.20       1960.00         0.97          2.37  \n",
       "25%            5.68       1996.00  13191802.64   18309940.90  \n",
       "50%            6.20       2004.00  30148807.35   60925540.44  \n",
       "75%            6.70       2010.00  60613069.68  161943045.37  \n",
       "max            8.40       2015.00 425000000.00 2827123750.41  "
      ]
     },
     "execution_count": 44,
     "metadata": {},
     "output_type": "execute_result"
    }
   ],
   "source": [
    "tm.describe()"
   ]
  },
  {
   "cell_type": "markdown",
   "metadata": {},
   "source": [
    "create a scatter plot to see the correlation between the average vote for a movie and the budget of a movie"
   ]
  },
  {
   "cell_type": "code",
   "execution_count": 45,
   "metadata": {},
   "outputs": [
    {
     "data": {
      "text/plain": [
       "<matplotlib.axes._subplots.AxesSubplot at 0x190078fe610>"
      ]
     },
     "execution_count": 45,
     "metadata": {},
     "output_type": "execute_result"
    },
    {
     "data": {
      "image/png": "[encoded data removed]",
      "text/plain": [
       "<Figure size 432x288 with 1 Axes>"
      ]
     },
     "metadata": {
      "needs_background": "light"
     },
     "output_type": "display_data"
    }
   ],
   "source": [
    "scatter = tm.plot(x='budget', y='popularity', kind='scatter');\n",
    "plt.title('Correlation between movie popularity and budget of the movie')\n",
    "\n",
    "scatter"
   ]
  },
  {
   "cell_type": "markdown",
   "metadata": {},
   "source": [
    "create a plot to see the correlation between vote average and the movie budget and if it agrees with the popularity and budget "
   ]
  },
  {
   "cell_type": "code",
   "execution_count": 53,
   "metadata": {},
   "outputs": [
    {
     "data": {
      "text/plain": [
       "<matplotlib.axes._subplots.AxesSubplot at 0x1900a3b11f0>"
      ]
     },
     "execution_count": 53,
     "metadata": {},
     "output_type": "execute_result"
    },
    {
     "data": {
      "image/png": "[encoded data removed]",
      "text/plain": [
       "<Figure size 432x288 with 1 Axes>"
      ]
     },
     "metadata": {
      "needs_background": "light"
     },
     "output_type": "display_data"
    }
   ],
   "source": [
    "scatter = tm.plot(x='budget', y='vote_average', kind='scatter');\n",
    "plt.title('Correlation between movie vote average and budget of the movie')\n",
    "\n",
    "scatter"
   ]
  },
  {
   "cell_type": "markdown",
   "metadata": {},
   "source": [
    "determine the mean of the popularity column for the movies"
   ]
  },
  {
   "cell_type": "code",
   "execution_count": 46,
   "metadata": {},
   "outputs": [
    {
     "data": {
      "text/plain": [
       "1.1946882598509048"
      ]
     },
     "execution_count": 46,
     "metadata": {},
     "output_type": "execute_result"
    }
   ],
   "source": [
    "a =tm.popularity.mean()\n",
    "a"
   ]
  },
  {
   "cell_type": "markdown",
   "metadata": {},
   "source": [
    "determine the mean of the budget column"
   ]
  },
  {
   "cell_type": "code",
   "execution_count": 59,
   "metadata": {},
   "outputs": [
    {
     "data": {
      "text/plain": [
       "37528623.23269436"
      ]
     },
     "execution_count": 59,
     "metadata": {},
     "output_type": "execute_result"
    }
   ],
   "source": [
    "b = tm.budget.mean()\n",
    "b"
   ]
  },
  {
   "cell_type": "markdown",
   "metadata": {},
   "source": [
    "group the data by their popularity and get mean of nbudget for each popularity group"
   ]
  },
  {
   "cell_type": "code",
   "execution_count": 74,
   "metadata": {},
   "outputs": [
    {
     "data": {
      "text/plain": [
       "popularity\n",
       "0.00       350000.00\n",
       "0.01     30000000.00\n",
       "0.02     15000000.00\n",
       "0.02     15000000.00\n",
       "0.02     35000000.00\n",
       "            ...     \n",
       "13.11   110000000.00\n",
       "14.31   170000000.00\n",
       "24.95   165000000.00\n",
       "28.42   150000000.00\n",
       "32.99   150000000.00\n",
       "Name: budget, Length: 3754, dtype: float64"
      ]
     },
     "execution_count": 74,
     "metadata": {},
     "output_type": "execute_result"
    }
   ],
   "source": [
    "tm.groupby('popularity').mean().budget"
   ]
  },
  {
   "cell_type": "markdown",
   "metadata": {},
   "source": [
    "From the above it can be assumed that popular movies tend to have a much higher budget than movies with a lower budget."
   ]
  },
  {
   "cell_type": "markdown",
   "metadata": {},
   "source": [
    "view the movies with the highest popularity"
   ]
  },
  {
   "cell_type": "code",
   "execution_count": 60,
   "metadata": {},
   "outputs": [],
   "source": [
    "top_movies = tm[['original_title','popularity','vote_average','budget']]"
   ]
  },
  {
   "cell_type": "markdown",
   "metadata": {},
   "source": [
    "view the top 10 movies according to popularity "
   ]
  },
  {
   "cell_type": "code",
   "execution_count": 61,
   "metadata": {},
   "outputs": [
    {
     "data": {
      "text/html": [
       "<div>\n",
       "<style scoped>\n",
       "    .dataframe tbody tr th:only-of-type {\n",
       "        vertical-align: middle;\n",
       "    }\n",
       "\n",
       "    .dataframe tbody tr th {\n",
       "        vertical-align: top;\n",
       "    }\n",
       "\n",
       "    .dataframe thead th {\n",
       "        text-align: right;\n",
       "    }\n",
       "</style>\n",
       "<table border=\"1\" class=\"dataframe\">\n",
       "  <thead>\n",
       "    <tr style=\"text-align: right;\">\n",
       "      <th></th>\n",
       "      <th>original_title</th>\n",
       "      <th>popularity</th>\n",
       "      <th>vote_average</th>\n",
       "      <th>budget</th>\n",
       "    </tr>\n",
       "  </thead>\n",
       "  <tbody>\n",
       "    <tr>\n",
       "      <th>0</th>\n",
       "      <td>Jurassic World</td>\n",
       "      <td>32.99</td>\n",
       "      <td>6.50</td>\n",
       "      <td>150000000</td>\n",
       "    </tr>\n",
       "    <tr>\n",
       "      <th>1</th>\n",
       "      <td>Mad Max: Fury Road</td>\n",
       "      <td>28.42</td>\n",
       "      <td>7.10</td>\n",
       "      <td>150000000</td>\n",
       "    </tr>\n",
       "    <tr>\n",
       "      <th>2</th>\n",
       "      <td>Insurgent</td>\n",
       "      <td>13.11</td>\n",
       "      <td>6.30</td>\n",
       "      <td>110000000</td>\n",
       "    </tr>\n",
       "    <tr>\n",
       "      <th>3</th>\n",
       "      <td>Star Wars: The Force Awakens</td>\n",
       "      <td>11.17</td>\n",
       "      <td>7.50</td>\n",
       "      <td>200000000</td>\n",
       "    </tr>\n",
       "    <tr>\n",
       "      <th>4</th>\n",
       "      <td>Furious 7</td>\n",
       "      <td>9.34</td>\n",
       "      <td>7.30</td>\n",
       "      <td>190000000</td>\n",
       "    </tr>\n",
       "    <tr>\n",
       "      <th>5</th>\n",
       "      <td>The Revenant</td>\n",
       "      <td>9.11</td>\n",
       "      <td>7.20</td>\n",
       "      <td>135000000</td>\n",
       "    </tr>\n",
       "    <tr>\n",
       "      <th>6</th>\n",
       "      <td>Terminator Genisys</td>\n",
       "      <td>8.65</td>\n",
       "      <td>5.80</td>\n",
       "      <td>155000000</td>\n",
       "    </tr>\n",
       "    <tr>\n",
       "      <th>7</th>\n",
       "      <td>The Martian</td>\n",
       "      <td>7.67</td>\n",
       "      <td>7.60</td>\n",
       "      <td>108000000</td>\n",
       "    </tr>\n",
       "    <tr>\n",
       "      <th>8</th>\n",
       "      <td>Minions</td>\n",
       "      <td>7.40</td>\n",
       "      <td>6.50</td>\n",
       "      <td>74000000</td>\n",
       "    </tr>\n",
       "    <tr>\n",
       "      <th>9</th>\n",
       "      <td>Inside Out</td>\n",
       "      <td>6.33</td>\n",
       "      <td>8.00</td>\n",
       "      <td>175000000</td>\n",
       "    </tr>\n",
       "  </tbody>\n",
       "</table>\n",
       "</div>"
      ],
      "text/plain": [
       "                 original_title  popularity  vote_average     budget\n",
       "0                Jurassic World       32.99          6.50  150000000\n",
       "1            Mad Max: Fury Road       28.42          7.10  150000000\n",
       "2                     Insurgent       13.11          6.30  110000000\n",
       "3  Star Wars: The Force Awakens       11.17          7.50  200000000\n",
       "4                     Furious 7        9.34          7.30  190000000\n",
       "5                  The Revenant        9.11          7.20  135000000\n",
       "6            Terminator Genisys        8.65          5.80  155000000\n",
       "7                   The Martian        7.67          7.60  108000000\n",
       "8                       Minions        7.40          6.50   74000000\n",
       "9                    Inside Out        6.33          8.00  175000000"
      ]
     },
     "execution_count": 61,
     "metadata": {},
     "output_type": "execute_result"
    }
   ],
   "source": [
    "\n",
    "top_movies.head(10)"
   ]
  },
  {
   "cell_type": "markdown",
   "metadata": {},
   "source": [
    "view the bottom 10 movies "
   ]
  },
  {
   "cell_type": "code",
   "execution_count": 49,
   "metadata": {},
   "outputs": [
    {
     "data": {
      "text/html": [
       "<div>\n",
       "<style scoped>\n",
       "    .dataframe tbody tr th:only-of-type {\n",
       "        vertical-align: middle;\n",
       "    }\n",
       "\n",
       "    .dataframe tbody tr th {\n",
       "        vertical-align: top;\n",
       "    }\n",
       "\n",
       "    .dataframe thead th {\n",
       "        text-align: right;\n",
       "    }\n",
       "</style>\n",
       "<table border=\"1\" class=\"dataframe\">\n",
       "  <thead>\n",
       "    <tr style=\"text-align: right;\">\n",
       "      <th></th>\n",
       "      <th>original_title</th>\n",
       "      <th>popularity</th>\n",
       "      <th>vote_average</th>\n",
       "      <th>budget</th>\n",
       "    </tr>\n",
       "  </thead>\n",
       "  <tbody>\n",
       "    <tr>\n",
       "      <th>10779</th>\n",
       "      <td>Convoy</td>\n",
       "      <td>0.41</td>\n",
       "      <td>6.20</td>\n",
       "      <td>12000000</td>\n",
       "    </tr>\n",
       "    <tr>\n",
       "      <th>10780</th>\n",
       "      <td>Invasion of the Body Snatchers</td>\n",
       "      <td>0.41</td>\n",
       "      <td>6.50</td>\n",
       "      <td>3500000</td>\n",
       "    </tr>\n",
       "    <tr>\n",
       "      <th>10788</th>\n",
       "      <td>The Wiz</td>\n",
       "      <td>0.28</td>\n",
       "      <td>6.10</td>\n",
       "      <td>24000000</td>\n",
       "    </tr>\n",
       "    <tr>\n",
       "      <th>10791</th>\n",
       "      <td>Damien: Omen II</td>\n",
       "      <td>0.24</td>\n",
       "      <td>6.10</td>\n",
       "      <td>6800000</td>\n",
       "    </tr>\n",
       "    <tr>\n",
       "      <th>10793</th>\n",
       "      <td>Watership Down</td>\n",
       "      <td>0.23</td>\n",
       "      <td>6.80</td>\n",
       "      <td>1000000</td>\n",
       "    </tr>\n",
       "    <tr>\n",
       "      <th>10822</th>\n",
       "      <td>Who's Afraid of Virginia Woolf?</td>\n",
       "      <td>0.67</td>\n",
       "      <td>7.50</td>\n",
       "      <td>7500000</td>\n",
       "    </tr>\n",
       "    <tr>\n",
       "      <th>10828</th>\n",
       "      <td>Torn Curtain</td>\n",
       "      <td>0.40</td>\n",
       "      <td>6.30</td>\n",
       "      <td>3000000</td>\n",
       "    </tr>\n",
       "    <tr>\n",
       "      <th>10829</th>\n",
       "      <td>El Dorado</td>\n",
       "      <td>0.40</td>\n",
       "      <td>6.90</td>\n",
       "      <td>4653000</td>\n",
       "    </tr>\n",
       "    <tr>\n",
       "      <th>10835</th>\n",
       "      <td>The Sand Pebbles</td>\n",
       "      <td>0.30</td>\n",
       "      <td>7.00</td>\n",
       "      <td>12000000</td>\n",
       "    </tr>\n",
       "    <tr>\n",
       "      <th>10848</th>\n",
       "      <td>Fantastic Voyage</td>\n",
       "      <td>0.21</td>\n",
       "      <td>6.70</td>\n",
       "      <td>5115000</td>\n",
       "    </tr>\n",
       "  </tbody>\n",
       "</table>\n",
       "</div>"
      ],
      "text/plain": [
       "                        original_title  popularity  vote_average    budget\n",
       "10779                           Convoy        0.41          6.20  12000000\n",
       "10780   Invasion of the Body Snatchers        0.41          6.50   3500000\n",
       "10788                          The Wiz        0.28          6.10  24000000\n",
       "10791                  Damien: Omen II        0.24          6.10   6800000\n",
       "10793                   Watership Down        0.23          6.80   1000000\n",
       "10822  Who's Afraid of Virginia Woolf?        0.67          7.50   7500000\n",
       "10828                     Torn Curtain        0.40          6.30   3000000\n",
       "10829                        El Dorado        0.40          6.90   4653000\n",
       "10835                 The Sand Pebbles        0.30          7.00  12000000\n",
       "10848                 Fantastic Voyage        0.21          6.70   5115000"
      ]
     },
     "execution_count": 49,
     "metadata": {},
     "output_type": "execute_result"
    }
   ],
   "source": [
    "top_movies.tail(10)"
   ]
  },
  {
   "cell_type": "markdown",
   "metadata": {},
   "source": [
    "create a histogram of the top movies in the dataset"
   ]
  },
  {
   "cell_type": "code",
   "execution_count": 36,
   "metadata": {},
   "outputs": [
    {
     "data": {
      "text/plain": [
       "array([[<matplotlib.axes._subplots.AxesSubplot object at 0x0000015D4D4F7C70>,\n",
       "        <matplotlib.axes._subplots.AxesSubplot object at 0x0000015D4D5D1100>],\n",
       "       [<matplotlib.axes._subplots.AxesSubplot object at 0x0000015D4D5FA820>,\n",
       "        <matplotlib.axes._subplots.AxesSubplot object at 0x0000015D4D61CDC0>]],\n",
       "      dtype=object)"
      ]
     },
     "execution_count": 36,
     "metadata": {},
     "output_type": "execute_result"
    },
    {
     "data": {
      "image/png": "[encoded data removed]",
      "text/plain": [
       "<Figure size 576x576 with 4 Axes>"
      ]
     },
     "metadata": {
      "needs_background": "light"
     },
     "output_type": "display_data"
    }
   ],
   "source": [
    "top_movies.hist(figsize=(8,8))\n"
   ]
  },
  {
   "cell_type": "markdown",
   "metadata": {},
   "source": [
    "### Research Question 2:  which genre is more popular "
   ]
  },
  {
   "cell_type": "markdown",
   "metadata": {},
   "source": [
    "create a new dataframe with only certain columns assigned to the dataset"
   ]
  },
  {
   "cell_type": "code",
   "execution_count": 76,
   "metadata": {},
   "outputs": [],
   "source": [
    "top_genres = tm[['original_title','popularity','vote_average','budget', 'genres']]"
   ]
  },
  {
   "cell_type": "markdown",
   "metadata": {},
   "source": [
    "view the dataset and make sure it is displaying correctly"
   ]
  },
  {
   "cell_type": "code",
   "execution_count": 77,
   "metadata": {},
   "outputs": [
    {
     "data": {
      "text/html": [
       "<div>\n",
       "<style scoped>\n",
       "    .dataframe tbody tr th:only-of-type {\n",
       "        vertical-align: middle;\n",
       "    }\n",
       "\n",
       "    .dataframe tbody tr th {\n",
       "        vertical-align: top;\n",
       "    }\n",
       "\n",
       "    .dataframe thead th {\n",
       "        text-align: right;\n",
       "    }\n",
       "</style>\n",
       "<table border=\"1\" class=\"dataframe\">\n",
       "  <thead>\n",
       "    <tr style=\"text-align: right;\">\n",
       "      <th></th>\n",
       "      <th>original_title</th>\n",
       "      <th>popularity</th>\n",
       "      <th>vote_average</th>\n",
       "      <th>budget</th>\n",
       "      <th>genres</th>\n",
       "    </tr>\n",
       "  </thead>\n",
       "  <tbody>\n",
       "    <tr>\n",
       "      <th>0</th>\n",
       "      <td>Jurassic World</td>\n",
       "      <td>32.99</td>\n",
       "      <td>6.50</td>\n",
       "      <td>150000000</td>\n",
       "      <td>Action|Adventure|Science Fiction|Thriller</td>\n",
       "    </tr>\n",
       "    <tr>\n",
       "      <th>1</th>\n",
       "      <td>Mad Max: Fury Road</td>\n",
       "      <td>28.42</td>\n",
       "      <td>7.10</td>\n",
       "      <td>150000000</td>\n",
       "      <td>Action|Adventure|Science Fiction|Thriller</td>\n",
       "    </tr>\n",
       "    <tr>\n",
       "      <th>2</th>\n",
       "      <td>Insurgent</td>\n",
       "      <td>13.11</td>\n",
       "      <td>6.30</td>\n",
       "      <td>110000000</td>\n",
       "      <td>Adventure|Science Fiction|Thriller</td>\n",
       "    </tr>\n",
       "    <tr>\n",
       "      <th>3</th>\n",
       "      <td>Star Wars: The Force Awakens</td>\n",
       "      <td>11.17</td>\n",
       "      <td>7.50</td>\n",
       "      <td>200000000</td>\n",
       "      <td>Action|Adventure|Science Fiction|Fantasy</td>\n",
       "    </tr>\n",
       "    <tr>\n",
       "      <th>4</th>\n",
       "      <td>Furious 7</td>\n",
       "      <td>9.34</td>\n",
       "      <td>7.30</td>\n",
       "      <td>190000000</td>\n",
       "      <td>Action|Crime|Thriller</td>\n",
       "    </tr>\n",
       "  </tbody>\n",
       "</table>\n",
       "</div>"
      ],
      "text/plain": [
       "                 original_title  popularity  vote_average     budget  \\\n",
       "0                Jurassic World       32.99          6.50  150000000   \n",
       "1            Mad Max: Fury Road       28.42          7.10  150000000   \n",
       "2                     Insurgent       13.11          6.30  110000000   \n",
       "3  Star Wars: The Force Awakens       11.17          7.50  200000000   \n",
       "4                     Furious 7        9.34          7.30  190000000   \n",
       "\n",
       "                                      genres  \n",
       "0  Action|Adventure|Science Fiction|Thriller  \n",
       "1  Action|Adventure|Science Fiction|Thriller  \n",
       "2         Adventure|Science Fiction|Thriller  \n",
       "3   Action|Adventure|Science Fiction|Fantasy  \n",
       "4                      Action|Crime|Thriller  "
      ]
     },
     "execution_count": 77,
     "metadata": {},
     "output_type": "execute_result"
    }
   ],
   "source": [
    "top_genres.head()"
   ]
  },
  {
   "cell_type": "markdown",
   "metadata": {},
   "source": [
    "group the data by genres and get the mean according to their popularity"
   ]
  },
  {
   "cell_type": "code",
   "execution_count": 78,
   "metadata": {},
   "outputs": [
    {
     "data": {
      "text/plain": [
       "genres\n",
       "Action                                              1.05\n",
       "Action|Adventure                                    1.18\n",
       "Action|Adventure|Animation|Family|Fantasy           1.07\n",
       "Action|Adventure|Animation|Family|Science Fiction   3.34\n",
       "Action|Adventure|Animation|Science Fiction          0.48\n",
       "                                                    ... \n",
       "Western|Drama                                       0.67\n",
       "Western|Drama|Adventure|Thriller                    9.11\n",
       "Western|History                                     0.13\n",
       "Western|History|War                                 0.95\n",
       "Western|Thriller                                    0.39\n",
       "Name: popularity, Length: 1033, dtype: float64"
      ]
     },
     "execution_count": 78,
     "metadata": {},
     "output_type": "execute_result"
    }
   ],
   "source": [
    "top_genres.groupby('genres').mean().popularity"
   ]
  },
  {
   "cell_type": "markdown",
   "metadata": {},
   "source": [
    "the above data is not useful as it contains multiple keywords"
   ]
  },
  {
   "cell_type": "markdown",
   "metadata": {},
   "source": [
    "to get useful information with regards to the genre column we will have to split the data into multiple cells"
   ]
  },
  {
   "cell_type": "markdown",
   "metadata": {},
   "source": [
    "create a copy of the dataset for each genre"
   ]
  },
  {
   "cell_type": "code",
   "execution_count": 81,
   "metadata": {},
   "outputs": [],
   "source": [
    "action = top_genres.copy()\n",
    "\n"
   ]
  },
  {
   "cell_type": "code",
   "execution_count": 43,
   "metadata": {},
   "outputs": [
    {
     "data": {
      "text/html": [
       "<div>\n",
       "<style scoped>\n",
       "    .dataframe tbody tr th:only-of-type {\n",
       "        vertical-align: middle;\n",
       "    }\n",
       "\n",
       "    .dataframe tbody tr th {\n",
       "        vertical-align: top;\n",
       "    }\n",
       "\n",
       "    .dataframe thead th {\n",
       "        text-align: right;\n",
       "    }\n",
       "</style>\n",
       "<table border=\"1\" class=\"dataframe\">\n",
       "  <thead>\n",
       "    <tr style=\"text-align: right;\">\n",
       "      <th></th>\n",
       "      <th>original_title</th>\n",
       "      <th>popularity</th>\n",
       "      <th>vote_average</th>\n",
       "      <th>budget</th>\n",
       "      <th>genres</th>\n",
       "    </tr>\n",
       "  </thead>\n",
       "  <tbody>\n",
       "    <tr>\n",
       "      <th>0</th>\n",
       "      <td>Jurassic World</td>\n",
       "      <td>32.99</td>\n",
       "      <td>6.50</td>\n",
       "      <td>150000000</td>\n",
       "      <td>Action|Adventure|Science Fiction|Thriller</td>\n",
       "    </tr>\n",
       "    <tr>\n",
       "      <th>1</th>\n",
       "      <td>Mad Max: Fury Road</td>\n",
       "      <td>28.42</td>\n",
       "      <td>7.10</td>\n",
       "      <td>150000000</td>\n",
       "      <td>Action|Adventure|Science Fiction|Thriller</td>\n",
       "    </tr>\n",
       "    <tr>\n",
       "      <th>2</th>\n",
       "      <td>Insurgent</td>\n",
       "      <td>13.11</td>\n",
       "      <td>6.30</td>\n",
       "      <td>110000000</td>\n",
       "      <td>Adventure|Science Fiction|Thriller</td>\n",
       "    </tr>\n",
       "    <tr>\n",
       "      <th>3</th>\n",
       "      <td>Star Wars: The Force Awakens</td>\n",
       "      <td>11.17</td>\n",
       "      <td>7.50</td>\n",
       "      <td>200000000</td>\n",
       "      <td>Action|Adventure|Science Fiction|Fantasy</td>\n",
       "    </tr>\n",
       "    <tr>\n",
       "      <th>4</th>\n",
       "      <td>Furious 7</td>\n",
       "      <td>9.34</td>\n",
       "      <td>7.30</td>\n",
       "      <td>190000000</td>\n",
       "      <td>Action|Crime|Thriller</td>\n",
       "    </tr>\n",
       "  </tbody>\n",
       "</table>\n",
       "</div>"
      ],
      "text/plain": [
       "                 original_title  popularity  vote_average     budget  \\\n",
       "0                Jurassic World       32.99          6.50  150000000   \n",
       "1            Mad Max: Fury Road       28.42          7.10  150000000   \n",
       "2                     Insurgent       13.11          6.30  110000000   \n",
       "3  Star Wars: The Force Awakens       11.17          7.50  200000000   \n",
       "4                     Furious 7        9.34          7.30  190000000   \n",
       "\n",
       "                                      genres  \n",
       "0  Action|Adventure|Science Fiction|Thriller  \n",
       "1  Action|Adventure|Science Fiction|Thriller  \n",
       "2         Adventure|Science Fiction|Thriller  \n",
       "3   Action|Adventure|Science Fiction|Fantasy  \n",
       "4                      Action|Crime|Thriller  "
      ]
     },
     "execution_count": 43,
     "metadata": {},
     "output_type": "execute_result"
    }
   ],
   "source": [
    "action.head()"
   ]
  },
  {
   "cell_type": "markdown",
   "metadata": {},
   "source": [
    "split the dataframe genres columns to display only the first genre keyword for each movie.  "
   ]
  },
  {
   "cell_type": "code",
   "execution_count": 84,
   "metadata": {},
   "outputs": [],
   "source": [
    "split_columns = ['genres']\n",
    "for c in split_columns:\n",
    "    action[c] = action[c].apply(lambda x: x.split(\"|\")[0])"
   ]
  },
  {
   "cell_type": "code",
   "execution_count": 86,
   "metadata": {},
   "outputs": [
    {
     "data": {
      "text/html": [
       "<div>\n",
       "<style scoped>\n",
       "    .dataframe tbody tr th:only-of-type {\n",
       "        vertical-align: middle;\n",
       "    }\n",
       "\n",
       "    .dataframe tbody tr th {\n",
       "        vertical-align: top;\n",
       "    }\n",
       "\n",
       "    .dataframe thead th {\n",
       "        text-align: right;\n",
       "    }\n",
       "</style>\n",
       "<table border=\"1\" class=\"dataframe\">\n",
       "  <thead>\n",
       "    <tr style=\"text-align: right;\">\n",
       "      <th></th>\n",
       "      <th>original_title</th>\n",
       "      <th>popularity</th>\n",
       "      <th>vote_average</th>\n",
       "      <th>budget</th>\n",
       "      <th>genres</th>\n",
       "    </tr>\n",
       "  </thead>\n",
       "  <tbody>\n",
       "    <tr>\n",
       "      <th>0</th>\n",
       "      <td>Jurassic World</td>\n",
       "      <td>32.99</td>\n",
       "      <td>6.50</td>\n",
       "      <td>150000000</td>\n",
       "      <td>Action</td>\n",
       "    </tr>\n",
       "    <tr>\n",
       "      <th>1</th>\n",
       "      <td>Mad Max: Fury Road</td>\n",
       "      <td>28.42</td>\n",
       "      <td>7.10</td>\n",
       "      <td>150000000</td>\n",
       "      <td>Action</td>\n",
       "    </tr>\n",
       "    <tr>\n",
       "      <th>2</th>\n",
       "      <td>Insurgent</td>\n",
       "      <td>13.11</td>\n",
       "      <td>6.30</td>\n",
       "      <td>110000000</td>\n",
       "      <td>Adventure</td>\n",
       "    </tr>\n",
       "    <tr>\n",
       "      <th>3</th>\n",
       "      <td>Star Wars: The Force Awakens</td>\n",
       "      <td>11.17</td>\n",
       "      <td>7.50</td>\n",
       "      <td>200000000</td>\n",
       "      <td>Action</td>\n",
       "    </tr>\n",
       "    <tr>\n",
       "      <th>4</th>\n",
       "      <td>Furious 7</td>\n",
       "      <td>9.34</td>\n",
       "      <td>7.30</td>\n",
       "      <td>190000000</td>\n",
       "      <td>Action</td>\n",
       "    </tr>\n",
       "    <tr>\n",
       "      <th>...</th>\n",
       "      <td>...</td>\n",
       "      <td>...</td>\n",
       "      <td>...</td>\n",
       "      <td>...</td>\n",
       "      <td>...</td>\n",
       "    </tr>\n",
       "    <tr>\n",
       "      <th>10822</th>\n",
       "      <td>Who's Afraid of Virginia Woolf?</td>\n",
       "      <td>0.67</td>\n",
       "      <td>7.50</td>\n",
       "      <td>7500000</td>\n",
       "      <td>Drama</td>\n",
       "    </tr>\n",
       "    <tr>\n",
       "      <th>10828</th>\n",
       "      <td>Torn Curtain</td>\n",
       "      <td>0.40</td>\n",
       "      <td>6.30</td>\n",
       "      <td>3000000</td>\n",
       "      <td>Mystery</td>\n",
       "    </tr>\n",
       "    <tr>\n",
       "      <th>10829</th>\n",
       "      <td>El Dorado</td>\n",
       "      <td>0.40</td>\n",
       "      <td>6.90</td>\n",
       "      <td>4653000</td>\n",
       "      <td>Action</td>\n",
       "    </tr>\n",
       "    <tr>\n",
       "      <th>10835</th>\n",
       "      <td>The Sand Pebbles</td>\n",
       "      <td>0.30</td>\n",
       "      <td>7.00</td>\n",
       "      <td>12000000</td>\n",
       "      <td>Action</td>\n",
       "    </tr>\n",
       "    <tr>\n",
       "      <th>10848</th>\n",
       "      <td>Fantastic Voyage</td>\n",
       "      <td>0.21</td>\n",
       "      <td>6.70</td>\n",
       "      <td>5115000</td>\n",
       "      <td>Adventure</td>\n",
       "    </tr>\n",
       "  </tbody>\n",
       "</table>\n",
       "<p>3756 rows × 5 columns</p>\n",
       "</div>"
      ],
      "text/plain": [
       "                        original_title  popularity  vote_average     budget  \\\n",
       "0                       Jurassic World       32.99          6.50  150000000   \n",
       "1                   Mad Max: Fury Road       28.42          7.10  150000000   \n",
       "2                            Insurgent       13.11          6.30  110000000   \n",
       "3         Star Wars: The Force Awakens       11.17          7.50  200000000   \n",
       "4                            Furious 7        9.34          7.30  190000000   \n",
       "...                                ...         ...           ...        ...   \n",
       "10822  Who's Afraid of Virginia Woolf?        0.67          7.50    7500000   \n",
       "10828                     Torn Curtain        0.40          6.30    3000000   \n",
       "10829                        El Dorado        0.40          6.90    4653000   \n",
       "10835                 The Sand Pebbles        0.30          7.00   12000000   \n",
       "10848                 Fantastic Voyage        0.21          6.70    5115000   \n",
       "\n",
       "          genres  \n",
       "0         Action  \n",
       "1         Action  \n",
       "2      Adventure  \n",
       "3         Action  \n",
       "4         Action  \n",
       "...          ...  \n",
       "10822      Drama  \n",
       "10828    Mystery  \n",
       "10829     Action  \n",
       "10835     Action  \n",
       "10848  Adventure  \n",
       "\n",
       "[3756 rows x 5 columns]"
      ]
     },
     "execution_count": 86,
     "metadata": {},
     "output_type": "execute_result"
    }
   ],
   "source": [
    "action"
   ]
  },
  {
   "cell_type": "markdown",
   "metadata": {},
   "source": [
    "get a list of the top 10 movies according to popularity and their genres"
   ]
  },
  {
   "cell_type": "code",
   "execution_count": 90,
   "metadata": {},
   "outputs": [
    {
     "data": {
      "text/html": [
       "<div>\n",
       "<style scoped>\n",
       "    .dataframe tbody tr th:only-of-type {\n",
       "        vertical-align: middle;\n",
       "    }\n",
       "\n",
       "    .dataframe tbody tr th {\n",
       "        vertical-align: top;\n",
       "    }\n",
       "\n",
       "    .dataframe thead th {\n",
       "        text-align: right;\n",
       "    }\n",
       "</style>\n",
       "<table border=\"1\" class=\"dataframe\">\n",
       "  <thead>\n",
       "    <tr style=\"text-align: right;\">\n",
       "      <th></th>\n",
       "      <th>original_title</th>\n",
       "      <th>popularity</th>\n",
       "      <th>vote_average</th>\n",
       "      <th>budget</th>\n",
       "      <th>genres</th>\n",
       "    </tr>\n",
       "  </thead>\n",
       "  <tbody>\n",
       "    <tr>\n",
       "      <th>0</th>\n",
       "      <td>Jurassic World</td>\n",
       "      <td>32.99</td>\n",
       "      <td>6.50</td>\n",
       "      <td>150000000</td>\n",
       "      <td>Action</td>\n",
       "    </tr>\n",
       "    <tr>\n",
       "      <th>1</th>\n",
       "      <td>Mad Max: Fury Road</td>\n",
       "      <td>28.42</td>\n",
       "      <td>7.10</td>\n",
       "      <td>150000000</td>\n",
       "      <td>Action</td>\n",
       "    </tr>\n",
       "    <tr>\n",
       "      <th>2</th>\n",
       "      <td>Insurgent</td>\n",
       "      <td>13.11</td>\n",
       "      <td>6.30</td>\n",
       "      <td>110000000</td>\n",
       "      <td>Adventure</td>\n",
       "    </tr>\n",
       "    <tr>\n",
       "      <th>3</th>\n",
       "      <td>Star Wars: The Force Awakens</td>\n",
       "      <td>11.17</td>\n",
       "      <td>7.50</td>\n",
       "      <td>200000000</td>\n",
       "      <td>Action</td>\n",
       "    </tr>\n",
       "    <tr>\n",
       "      <th>4</th>\n",
       "      <td>Furious 7</td>\n",
       "      <td>9.34</td>\n",
       "      <td>7.30</td>\n",
       "      <td>190000000</td>\n",
       "      <td>Action</td>\n",
       "    </tr>\n",
       "    <tr>\n",
       "      <th>5</th>\n",
       "      <td>The Revenant</td>\n",
       "      <td>9.11</td>\n",
       "      <td>7.20</td>\n",
       "      <td>135000000</td>\n",
       "      <td>Western</td>\n",
       "    </tr>\n",
       "    <tr>\n",
       "      <th>6</th>\n",
       "      <td>Terminator Genisys</td>\n",
       "      <td>8.65</td>\n",
       "      <td>5.80</td>\n",
       "      <td>155000000</td>\n",
       "      <td>Science Fiction</td>\n",
       "    </tr>\n",
       "    <tr>\n",
       "      <th>7</th>\n",
       "      <td>The Martian</td>\n",
       "      <td>7.67</td>\n",
       "      <td>7.60</td>\n",
       "      <td>108000000</td>\n",
       "      <td>Drama</td>\n",
       "    </tr>\n",
       "    <tr>\n",
       "      <th>8</th>\n",
       "      <td>Minions</td>\n",
       "      <td>7.40</td>\n",
       "      <td>6.50</td>\n",
       "      <td>74000000</td>\n",
       "      <td>Family</td>\n",
       "    </tr>\n",
       "    <tr>\n",
       "      <th>9</th>\n",
       "      <td>Inside Out</td>\n",
       "      <td>6.33</td>\n",
       "      <td>8.00</td>\n",
       "      <td>175000000</td>\n",
       "      <td>Comedy</td>\n",
       "    </tr>\n",
       "  </tbody>\n",
       "</table>\n",
       "</div>"
      ],
      "text/plain": [
       "                 original_title  popularity  vote_average     budget  \\\n",
       "0                Jurassic World       32.99          6.50  150000000   \n",
       "1            Mad Max: Fury Road       28.42          7.10  150000000   \n",
       "2                     Insurgent       13.11          6.30  110000000   \n",
       "3  Star Wars: The Force Awakens       11.17          7.50  200000000   \n",
       "4                     Furious 7        9.34          7.30  190000000   \n",
       "5                  The Revenant        9.11          7.20  135000000   \n",
       "6            Terminator Genisys        8.65          5.80  155000000   \n",
       "7                   The Martian        7.67          7.60  108000000   \n",
       "8                       Minions        7.40          6.50   74000000   \n",
       "9                    Inside Out        6.33          8.00  175000000   \n",
       "\n",
       "            genres  \n",
       "0           Action  \n",
       "1           Action  \n",
       "2        Adventure  \n",
       "3           Action  \n",
       "4           Action  \n",
       "5          Western  \n",
       "6  Science Fiction  \n",
       "7            Drama  \n",
       "8           Family  \n",
       "9           Comedy  "
      ]
     },
     "execution_count": 90,
     "metadata": {},
     "output_type": "execute_result"
    }
   ],
   "source": [
    "action.head(10)"
   ]
  },
  {
   "cell_type": "markdown",
   "metadata": {},
   "source": [
    "create a bar chart to view a comparisson of movie genres in the dataset"
   ]
  },
  {
   "cell_type": "code",
   "execution_count": 79,
   "metadata": {},
   "outputs": [
    {
     "data": {
      "text/plain": [
       "Text(0, 0.5, 'Number of movies in dataset')"
      ]
     },
     "execution_count": 79,
     "metadata": {},
     "output_type": "execute_result"
    },
    {
     "data": {
      "image/png": "[encoded data removed]",
      "text/plain": [
       "<Figure size 432x288 with 1 Axes>"
      ]
     },
     "metadata": {
      "needs_background": "light"
     },
     "output_type": "display_data"
    }
   ],
   "source": [
    "action['genres'].value_counts().plot(kind='bar');\n",
    "plt.title('Genres in the dataset')\n",
    "plt.xlabel('Movie Genre');\n",
    "plt.ylabel('Number of movies in dataset')"
   ]
  },
  {
   "cell_type": "markdown",
   "metadata": {},
   "source": [
    "drop any columns in the dataset containg nul values"
   ]
  },
  {
   "cell_type": "code",
   "execution_count": 87,
   "metadata": {},
   "outputs": [],
   "source": [
    "action.dropna(inplace=True)"
   ]
  },
  {
   "cell_type": "markdown",
   "metadata": {},
   "source": [
    "get a list of all field values in the genres "
   ]
  },
  {
   "cell_type": "code",
   "execution_count": 87,
   "metadata": {},
   "outputs": [
    {
     "data": {
      "text/plain": [
       "Drama              868\n",
       "Comedy             778\n",
       "Action             672\n",
       "Adventure          304\n",
       "Horror             252\n",
       "Crime              167\n",
       "Thriller           159\n",
       "Fantasy            109\n",
       "Animation           99\n",
       "Science Fiction     95\n",
       "Romance             63\n",
       "Family              39\n",
       "Mystery             36\n",
       "Documentary         32\n",
       "Music               29\n",
       "War                 20\n",
       "History             17\n",
       "Western             16\n",
       "TV Movie             1\n",
       "Name: genres, dtype: int64"
      ]
     },
     "execution_count": 87,
     "metadata": {},
     "output_type": "execute_result"
    }
   ],
   "source": [
    "action['genres'].value_counts()"
   ]
  },
  {
   "cell_type": "markdown",
   "metadata": {},
   "source": [
    "I want to plot the correlation between the popularity of a movie and the genre of the movie to determine which movie genre is more popular"
   ]
  },
  {
   "cell_type": "code",
   "execution_count": 90,
   "metadata": {},
   "outputs": [
    {
     "data": {
      "text/plain": [
       "Text(0.5, 1.0, 'Correlation between movie genre and popularity')"
      ]
     },
     "execution_count": 90,
     "metadata": {},
     "output_type": "execute_result"
    },
    {
     "data": {
      "image/png": "[encoded data removed]",
      "text/plain": [
       "<Figure size 1440x720 with 1 Axes>"
      ]
     },
     "metadata": {
      "needs_background": "light"
     },
     "output_type": "display_data"
    }
   ],
   "source": [
    "movie_plot = action.plot(x='genres', y='popularity', kind='scatter', figsize=(20,10));\n",
    "plt.title('Correlation between movie genre and popularity')\n"
   ]
  },
  {
   "cell_type": "markdown",
   "metadata": {},
   "source": [
    "the above scatter plot seems to indicate that movies in the action and adventure genre is more popular with viewers than those of other genres."
   ]
  },
  {
   "cell_type": "markdown",
   "metadata": {},
   "source": [
    "### Research Question 3:  Investigate the revenue of movies according to popularity"
   ]
  },
  {
   "cell_type": "code",
   "execution_count": 122,
   "metadata": {},
   "outputs": [
    {
     "data": {
      "text/html": [
       "<div>\n",
       "<style scoped>\n",
       "    .dataframe tbody tr th:only-of-type {\n",
       "        vertical-align: middle;\n",
       "    }\n",
       "\n",
       "    .dataframe tbody tr th {\n",
       "        vertical-align: top;\n",
       "    }\n",
       "\n",
       "    .dataframe thead th {\n",
       "        text-align: right;\n",
       "    }\n",
       "</style>\n",
       "<table border=\"1\" class=\"dataframe\">\n",
       "  <thead>\n",
       "    <tr style=\"text-align: right;\">\n",
       "      <th></th>\n",
       "      <th>original_title</th>\n",
       "      <th>popularity</th>\n",
       "      <th>vote_average</th>\n",
       "      <th>budget</th>\n",
       "      <th>revenue</th>\n",
       "    </tr>\n",
       "  </thead>\n",
       "  <tbody>\n",
       "    <tr>\n",
       "      <th>0</th>\n",
       "      <td>Jurassic World</td>\n",
       "      <td>32.99</td>\n",
       "      <td>6.50</td>\n",
       "      <td>150000000</td>\n",
       "      <td>1513528810</td>\n",
       "    </tr>\n",
       "    <tr>\n",
       "      <th>1</th>\n",
       "      <td>Mad Max: Fury Road</td>\n",
       "      <td>28.42</td>\n",
       "      <td>7.10</td>\n",
       "      <td>150000000</td>\n",
       "      <td>378436354</td>\n",
       "    </tr>\n",
       "    <tr>\n",
       "      <th>2</th>\n",
       "      <td>Insurgent</td>\n",
       "      <td>13.11</td>\n",
       "      <td>6.30</td>\n",
       "      <td>110000000</td>\n",
       "      <td>295238201</td>\n",
       "    </tr>\n",
       "    <tr>\n",
       "      <th>3</th>\n",
       "      <td>Star Wars: The Force Awakens</td>\n",
       "      <td>11.17</td>\n",
       "      <td>7.50</td>\n",
       "      <td>200000000</td>\n",
       "      <td>2068178225</td>\n",
       "    </tr>\n",
       "    <tr>\n",
       "      <th>4</th>\n",
       "      <td>Furious 7</td>\n",
       "      <td>9.34</td>\n",
       "      <td>7.30</td>\n",
       "      <td>190000000</td>\n",
       "      <td>1506249360</td>\n",
       "    </tr>\n",
       "  </tbody>\n",
       "</table>\n",
       "</div>"
      ],
      "text/plain": [
       "                 original_title  popularity  vote_average     budget  \\\n",
       "0                Jurassic World       32.99          6.50  150000000   \n",
       "1            Mad Max: Fury Road       28.42          7.10  150000000   \n",
       "2                     Insurgent       13.11          6.30  110000000   \n",
       "3  Star Wars: The Force Awakens       11.17          7.50  200000000   \n",
       "4                     Furious 7        9.34          7.30  190000000   \n",
       "\n",
       "      revenue  \n",
       "0  1513528810  \n",
       "1   378436354  \n",
       "2   295238201  \n",
       "3  2068178225  \n",
       "4  1506249360  "
      ]
     },
     "execution_count": 122,
     "metadata": {},
     "output_type": "execute_result"
    }
   ],
   "source": [
    "revenue = tm[['original_title','popularity','vote_average','budget', 'revenue']]\n",
    "revenue.head()"
   ]
  },
  {
   "cell_type": "markdown",
   "metadata": {},
   "source": [
    "view the top 10 movies according to revenue generated"
   ]
  },
  {
   "cell_type": "code",
   "execution_count": 123,
   "metadata": {},
   "outputs": [
    {
     "data": {
      "text/html": [
       "<div>\n",
       "<style scoped>\n",
       "    .dataframe tbody tr th:only-of-type {\n",
       "        vertical-align: middle;\n",
       "    }\n",
       "\n",
       "    .dataframe tbody tr th {\n",
       "        vertical-align: top;\n",
       "    }\n",
       "\n",
       "    .dataframe thead th {\n",
       "        text-align: right;\n",
       "    }\n",
       "</style>\n",
       "<table border=\"1\" class=\"dataframe\">\n",
       "  <thead>\n",
       "    <tr style=\"text-align: right;\">\n",
       "      <th></th>\n",
       "      <th>original_title</th>\n",
       "      <th>popularity</th>\n",
       "      <th>vote_average</th>\n",
       "      <th>budget</th>\n",
       "      <th>revenue</th>\n",
       "    </tr>\n",
       "  </thead>\n",
       "  <tbody>\n",
       "    <tr>\n",
       "      <th>1386</th>\n",
       "      <td>Avatar</td>\n",
       "      <td>9.43</td>\n",
       "      <td>7.10</td>\n",
       "      <td>237000000</td>\n",
       "      <td>2781505847</td>\n",
       "    </tr>\n",
       "    <tr>\n",
       "      <th>3</th>\n",
       "      <td>Star Wars: The Force Awakens</td>\n",
       "      <td>11.17</td>\n",
       "      <td>7.50</td>\n",
       "      <td>200000000</td>\n",
       "      <td>2068178225</td>\n",
       "    </tr>\n",
       "    <tr>\n",
       "      <th>5231</th>\n",
       "      <td>Titanic</td>\n",
       "      <td>4.36</td>\n",
       "      <td>7.30</td>\n",
       "      <td>200000000</td>\n",
       "      <td>1845034188</td>\n",
       "    </tr>\n",
       "    <tr>\n",
       "      <th>4361</th>\n",
       "      <td>The Avengers</td>\n",
       "      <td>7.64</td>\n",
       "      <td>7.30</td>\n",
       "      <td>220000000</td>\n",
       "      <td>1519557910</td>\n",
       "    </tr>\n",
       "    <tr>\n",
       "      <th>0</th>\n",
       "      <td>Jurassic World</td>\n",
       "      <td>32.99</td>\n",
       "      <td>6.50</td>\n",
       "      <td>150000000</td>\n",
       "      <td>1513528810</td>\n",
       "    </tr>\n",
       "    <tr>\n",
       "      <th>4</th>\n",
       "      <td>Furious 7</td>\n",
       "      <td>9.34</td>\n",
       "      <td>7.30</td>\n",
       "      <td>190000000</td>\n",
       "      <td>1506249360</td>\n",
       "    </tr>\n",
       "    <tr>\n",
       "      <th>14</th>\n",
       "      <td>Avengers: Age of Ultron</td>\n",
       "      <td>5.94</td>\n",
       "      <td>7.40</td>\n",
       "      <td>280000000</td>\n",
       "      <td>1405035767</td>\n",
       "    </tr>\n",
       "    <tr>\n",
       "      <th>3374</th>\n",
       "      <td>Harry Potter and the Deathly Hallows: Part 2</td>\n",
       "      <td>5.71</td>\n",
       "      <td>7.70</td>\n",
       "      <td>125000000</td>\n",
       "      <td>1327817822</td>\n",
       "    </tr>\n",
       "    <tr>\n",
       "      <th>5425</th>\n",
       "      <td>Iron Man 3</td>\n",
       "      <td>4.95</td>\n",
       "      <td>6.90</td>\n",
       "      <td>200000000</td>\n",
       "      <td>1215439994</td>\n",
       "    </tr>\n",
       "    <tr>\n",
       "      <th>8</th>\n",
       "      <td>Minions</td>\n",
       "      <td>7.40</td>\n",
       "      <td>6.50</td>\n",
       "      <td>74000000</td>\n",
       "      <td>1156730962</td>\n",
       "    </tr>\n",
       "  </tbody>\n",
       "</table>\n",
       "</div>"
      ],
      "text/plain": [
       "                                    original_title  popularity  vote_average  \\\n",
       "1386                                        Avatar        9.43          7.10   \n",
       "3                     Star Wars: The Force Awakens       11.17          7.50   \n",
       "5231                                       Titanic        4.36          7.30   \n",
       "4361                                  The Avengers        7.64          7.30   \n",
       "0                                   Jurassic World       32.99          6.50   \n",
       "4                                        Furious 7        9.34          7.30   \n",
       "14                         Avengers: Age of Ultron        5.94          7.40   \n",
       "3374  Harry Potter and the Deathly Hallows: Part 2        5.71          7.70   \n",
       "5425                                    Iron Man 3        4.95          6.90   \n",
       "8                                          Minions        7.40          6.50   \n",
       "\n",
       "         budget     revenue  \n",
       "1386  237000000  2781505847  \n",
       "3     200000000  2068178225  \n",
       "5231  200000000  1845034188  \n",
       "4361  220000000  1519557910  \n",
       "0     150000000  1513528810  \n",
       "4     190000000  1506249360  \n",
       "14    280000000  1405035767  \n",
       "3374  125000000  1327817822  \n",
       "5425  200000000  1215439994  \n",
       "8      74000000  1156730962  "
      ]
     },
     "execution_count": 123,
     "metadata": {},
     "output_type": "execute_result"
    }
   ],
   "source": [
    "top_revenue = revenue.sort_values('revenue', ascending=False)\n",
    "top_revenue.head(10)"
   ]
  },
  {
   "cell_type": "markdown",
   "metadata": {},
   "source": [
    "group movies according to revenue generated and popularity rating"
   ]
  },
  {
   "cell_type": "code",
   "execution_count": 124,
   "metadata": {},
   "outputs": [
    {
     "data": {
      "text/plain": [
       "revenue\n",
       "2             0.51\n",
       "3             0.35\n",
       "5             0.39\n",
       "6             0.32\n",
       "11            0.26\n",
       "              ... \n",
       "1513528810   32.99\n",
       "1519557910    7.64\n",
       "1845034188    4.36\n",
       "2068178225   11.17\n",
       "2781505847    9.43\n",
       "Name: popularity, Length: 3663, dtype: float64"
      ]
     },
     "execution_count": 124,
     "metadata": {},
     "output_type": "execute_result"
    }
   ],
   "source": [
    "top_revenue.groupby('revenue').mean().popularity"
   ]
  },
  {
   "cell_type": "markdown",
   "metadata": {},
   "source": [
    "create a scatter plot to compare the correlation between revenue and movie popularity"
   ]
  },
  {
   "cell_type": "code",
   "execution_count": 125,
   "metadata": {},
   "outputs": [
    {
     "data": {
      "text/plain": [
       "Text(0.5, 1.0, 'Correlation between movie genre and popularity')"
      ]
     },
     "execution_count": 125,
     "metadata": {},
     "output_type": "execute_result"
    },
    {
     "data": {
      "image/png": "[encoded data removed]",
      "text/plain": [
       "<Figure size 1440x720 with 1 Axes>"
      ]
     },
     "metadata": {
      "needs_background": "light"
     },
     "output_type": "display_data"
    }
   ],
   "source": [
    "top_revenue = top_revenue.plot(x='popularity', y='revenue', kind='scatter', figsize=(20,10));\n",
    "plt.title('Correlation between movie revenue and popularity')"
   ]
  },
  {
   "cell_type": "markdown",
   "metadata": {},
   "source": [
    "<a id='conclusions'></a>\n",
    "## Conclusions\n",
    "\n",
    "#### conclusion with regards to question 1\n",
    "Movies with a higher budget does seem to have a higher popularity with viewers.  looking at the top 10 movies in the dataset with regards to popularity they all have a very high budget compared to the bottom 10 movies and their budget.\n",
    "\n",
    "#### conclusion with regards to question 2\n",
    "\n",
    "it seems that the Action genre is the more popular movie genre in the dataset based on the comparrison between the genres and their respective popularity in the scatter plot.  Out of the top 10 movies in the dataset is the top genre also the action genre\n",
    "\n",
    "#### conclusion with regards to question 3\n",
    "\n",
    "I thought that the more popular a movie with the audience the higher the revenue would be but this is not the case.  from the data popularity is not the only factor that contributes to revenue of a movie. \n",
    "\n",
    "#### Limitations\n",
    "I have used and worked with TMDB Movies dataset for the analysis and the analysis only pertains to the popularity, revenue, genre variables.  I had to drop some data in the dataset containing nul values and also the original_title column contained quite a few duplicates that had to be removed.\n",
    "\n",
    "I had to ommit some movies from the analysis as they contained 0 values in 1 or more columns in the dataset that would uneccasarily skew the data.  \n",
    "\n",
    "In the second section where I analysed the genres of the movies I split the data in the genre column to only display the first keyword of each genre as I think the first genre keyword indicates the main genre.  However, some genres for example were Adeventure and then action.\n",
    "\n"
   ]
  },
  {
   "cell_type": "code",
   "execution_count": null,
   "metadata": {
    "collapsed": true
   },
   "outputs": [],
   "source": []
  }
 ],
 "metadata": {
  "kernelspec": {
   "display_name": "Python 3",
   "language": "python",
   "name": "python3"
  },
  "language_info": {
   "codemirror_mode": {
    "name": "ipython",
    "version": 3
   },
   "file_extension": ".py",
   "mimetype": "text/x-python",
   "name": "python",
   "nbconvert_exporter": "python",
   "pygments_lexer": "ipython3",
   "version": "3.8.8"
  }
 },
 "nbformat": 4,
 "nbformat_minor": 2
}
